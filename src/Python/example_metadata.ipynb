{
 "cells": [
  {
   "cell_type": "code",
   "execution_count": 1,
   "outputs": [],
   "source": [
    "import glob\n",
    "import pandas as pd\n",
    "import requests\n",
    "import json"
   ],
   "metadata": {
    "collapsed": false,
    "pycharm": {
     "name": "#%%\n"
    }
   }
  },
  {
   "cell_type": "code",
   "execution_count": 2,
   "outputs": [],
   "source": [
    "pd.set_option('display.max_columns', 23)"
   ],
   "metadata": {
    "collapsed": false,
    "pycharm": {
     "name": "#%%\n"
    }
   }
  },
  {
   "cell_type": "code",
   "execution_count": 3,
   "outputs": [],
   "source": [
    "path = \"../../vocabulary/*.csv\"\n",
    "examples = pd.DataFrame()\n",
    "\n",
    "for file in glob.glob(path):\n",
    "    approach = pd.read_csv(file)\n",
    "    examples = examples.append(approach, ignore_index=True)"
   ],
   "metadata": {
    "collapsed": false,
    "pycharm": {
     "name": "#%%\n"
    }
   }
  },
  {
   "cell_type": "code",
   "execution_count": 4,
   "outputs": [],
   "source": [
    "def lookup_metadata(field):\n",
    "    line = examples[examples['field_id'] == field]\n",
    "    line = line.dropna(how='all', axis=1)\n",
    "    return line"
   ],
   "metadata": {
    "collapsed": false,
    "pycharm": {
     "name": "#%%\n"
    }
   }
  },
  {
   "cell_type": "code",
   "execution_count": 5,
   "outputs": [
    {
     "data": {
      "text/plain": "   field_id                                               name  \\\n4      2986  Started insulin within one year diagnosis of d...   \n5      2986  Started insulin within one year diagnosis of d...   \n\n  mapping_approach  date_field_id modified_by_field_id modified_by_value  \\\n4         Modified           53.0         31/2443/4041               1/1   \n5         Modified           53.0         31/2443/4041             0/1/0   \n\n   target_concept_id  target_value_concept_id  value value_name  \n4          4188893.0               45884660.0    1.0        Yes  \n5          4188893.0               45884660.0    0.0         No  ",
      "text/html": "<div>\n<style scoped>\n    .dataframe tbody tr th:only-of-type {\n        vertical-align: middle;\n    }\n\n    .dataframe tbody tr th {\n        vertical-align: top;\n    }\n\n    .dataframe thead th {\n        text-align: right;\n    }\n</style>\n<table border=\"1\" class=\"dataframe\">\n  <thead>\n    <tr style=\"text-align: right;\">\n      <th></th>\n      <th>field_id</th>\n      <th>name</th>\n      <th>mapping_approach</th>\n      <th>date_field_id</th>\n      <th>modified_by_field_id</th>\n      <th>modified_by_value</th>\n      <th>target_concept_id</th>\n      <th>target_value_concept_id</th>\n      <th>value</th>\n      <th>value_name</th>\n    </tr>\n  </thead>\n  <tbody>\n    <tr>\n      <th>4</th>\n      <td>2986</td>\n      <td>Started insulin within one year diagnosis of d...</td>\n      <td>Modified</td>\n      <td>53.0</td>\n      <td>31/2443/4041</td>\n      <td>1/1</td>\n      <td>4188893.0</td>\n      <td>45884660.0</td>\n      <td>1.0</td>\n      <td>Yes</td>\n    </tr>\n    <tr>\n      <th>5</th>\n      <td>2986</td>\n      <td>Started insulin within one year diagnosis of d...</td>\n      <td>Modified</td>\n      <td>53.0</td>\n      <td>31/2443/4041</td>\n      <td>0/1/0</td>\n      <td>4188893.0</td>\n      <td>45884660.0</td>\n      <td>0.0</td>\n      <td>No</td>\n    </tr>\n  </tbody>\n</table>\n</div>"
     },
     "execution_count": 5,
     "metadata": {},
     "output_type": "execute_result"
    }
   ],
   "source": [
    "lookup_metadata(2986)"
   ],
   "metadata": {
    "collapsed": false,
    "pycharm": {
     "name": "#%%\n"
    }
   }
  },
  {
   "cell_type": "code",
   "execution_count": 6,
   "outputs": [],
   "source": [
    "def omop_domain(field):\n",
    "    concept_id = int(examples[examples['field_id'] == field]['target_concept_id'].unique())\n",
    "    response = requests.get(f'https://athena.ohdsi.org/api/v1/concepts/{concept_id}')\n",
    "    concept = json.loads(response.text)\n",
    "    domain = concept['domainId']\n",
    "    return domain"
   ],
   "metadata": {
    "collapsed": false,
    "pycharm": {
     "name": "#%%\n"
    }
   }
  },
  {
   "cell_type": "code",
   "execution_count": 7,
   "outputs": [],
   "source": [
    "def example_omop_table(field, instance, *value):\n",
    "    domain = omop_domain(field)\n",
    "    if value:\n",
    "        row = examples[(examples['field_id'] == field) & (examples['value'] == value)]\n",
    "    else:\n",
    "        row = examples[examples['field_id'] == field]\n",
    "\n",
    "    table = pd.Series({'person_id': 'get(eid)',\n",
    "                       domain+'_concept_id': str(row.iloc[0]['target_concept_id']),\n",
    "                       domain+'_date': 'get date from field '+str(row.iloc[0]['date_field_id'])+'-'+instance,\n",
    "                       'value_as_concept_id': str(row.iloc[0]['target_value_concept_id']),\n",
    "                       'value_as_number': 'get value from field '+str(row.iloc[0]['field_id'])+'-'+instance,\n",
    "                       'unit_concept_id': str(row.iloc[0]['unit_concept_id'])\n",
    "                       })\n",
    "    return table"
   ],
   "metadata": {
    "collapsed": false,
    "pycharm": {
     "name": "#%%\n"
    }
   }
  },
  {
   "cell_type": "code",
   "execution_count": 8,
   "outputs": [
    {
     "data": {
      "text/plain": "'Observation'"
     },
     "execution_count": 8,
     "metadata": {},
     "output_type": "execute_result"
    }
   ],
   "source": [
    "omop_domain(2986)"
   ],
   "metadata": {
    "collapsed": false,
    "pycharm": {
     "name": "#%%\n"
    }
   }
  },
  {
   "cell_type": "code",
   "execution_count": 9,
   "outputs": [
    {
     "data": {
      "text/plain": "person_id                                      get(eid)\nObservation_concept_id                        4188893.0\nObservation_date           get date from field 53.0-0.1\nvalue_as_concept_id                          45884660.0\nvalue_as_number           get value from field 2986-0.1\nunit_concept_id                                     nan\ndtype: object"
     },
     "execution_count": 9,
     "metadata": {},
     "output_type": "execute_result"
    }
   ],
   "source": [
    "example_omop_table(2986, '0.1', 0)\n"
   ],
   "metadata": {
    "collapsed": false,
    "pycharm": {
     "name": "#%%\n"
    }
   }
  }
 ],
 "metadata": {
  "kernelspec": {
   "name": "pycharm-3fc10125",
   "language": "python",
   "display_name": "PyCharm (ukbiobank-omop-etl)"
  },
  "language_info": {
   "codemirror_mode": {
    "name": "ipython",
    "version": 2
   },
   "file_extension": ".py",
   "mimetype": "text/x-python",
   "name": "python",
   "nbconvert_exporter": "python",
   "pygments_lexer": "ipython2",
   "version": "2.7.6"
  }
 },
 "nbformat": 4,
 "nbformat_minor": 0
}