{
 "cells": [
  {
   "cell_type": "code",
   "execution_count": 1,
   "outputs": [],
   "source": [
    "import glob\n",
    "import pandas as pd"
   ],
   "metadata": {
    "collapsed": false,
    "pycharm": {
     "name": "#%%\n"
    }
   }
  },
  {
   "cell_type": "code",
   "execution_count": 3,
   "outputs": [],
   "source": [
    "pd.set_option('display.max_columns', 23)"
   ],
   "metadata": {
    "collapsed": false,
    "pycharm": {
     "name": "#%%\n"
    }
   }
  },
  {
   "cell_type": "code",
   "execution_count": 16,
   "outputs": [],
   "source": [
    "path = \"../../vocabulary/*.csv\"\n",
    "examples = pd.DataFrame()\n",
    "\n",
    "for file in glob.glob(path):\n",
    "    approach = pd.read_csv(file)\n",
    "    examples = examples.append(approach, ignore_index=True)"
   ],
   "metadata": {
    "collapsed": false,
    "pycharm": {
     "name": "#%%\n"
    }
   }
  },
  {
   "cell_type": "code",
   "execution_count": 5,
   "outputs": [],
   "source": [
    "def lookup_metadata(field):\n",
    "    line = examples[examples['field_id'] == field]\n",
    "    line = line.dropna(how='all', axis=1)\n",
    "    return line"
   ],
   "metadata": {
    "collapsed": false,
    "pycharm": {
     "name": "#%%\n"
    }
   }
  },
  {
   "cell_type": "code",
   "execution_count": 15,
   "outputs": [
    {
     "name": "stdout",
     "output_type": "stream",
     "text": [
      "   field_id                                               name  \\\n",
      "3      2986  Started insulin within one year diagnosis of d...   \n",
      "4      2986  Started insulin within one year diagnosis of d...   \n",
      "\n",
      "  mapping_approach  date_field_id modified_by_field_id modified_by_value  \\\n",
      "3         Modified           53.0         31/2443/4041               1/1   \n",
      "4         Modified           53.0         31/2443/4041             0/1/0   \n",
      "\n",
      "   target_concept_id  target_value_concept_id  \n",
      "3          4188893.0               45884660.0  \n",
      "4          4188893.0               45884660.0  \n"
     ]
    }
   ],
   "source": [
    "print(lookup_metadata(2986))\n"
   ],
   "metadata": {
    "collapsed": false,
    "pycharm": {
     "name": "#%%\n"
    }
   }
  }
 ],
 "metadata": {
  "kernelspec": {
   "name": "pycharm-3fc10125",
   "language": "python",
   "display_name": "PyCharm (ukbiobank-omop-etl)"
  },
  "language_info": {
   "codemirror_mode": {
    "name": "ipython",
    "version": 2
   },
   "file_extension": ".py",
   "mimetype": "text/x-python",
   "name": "python",
   "nbconvert_exporter": "python",
   "pygments_lexer": "ipython2",
   "version": "2.7.6"
  }
 },
 "nbformat": 4,
 "nbformat_minor": 0
}