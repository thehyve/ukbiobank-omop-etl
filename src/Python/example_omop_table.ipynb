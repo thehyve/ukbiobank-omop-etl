{
 "cells": [
  {
   "cell_type": "code",
   "execution_count": 1,
   "metadata": {
    "collapsed": true
   },
   "outputs": [],
   "source": [
    "import requests\n",
    "import json\n",
    "import pandas as pd"
   ]
  },
  {
   "cell_type": "code",
   "execution_count": 7,
   "outputs": [],
   "source": [
    "from src.Python.get_metadata import examples"
   ],
   "metadata": {
    "collapsed": false,
    "pycharm": {
     "name": "#%%\n"
    }
   }
  },
  {
   "cell_type": "code",
   "execution_count": 8,
   "outputs": [],
   "source": [
    "def omop_domain(field):\n",
    "    concept_id = int(examples[examples['field_id'] == field]['target_concept_id'].unique())\n",
    "    response = requests.get(f'https://athena.ohdsi.org/api/v1/concepts/{concept_id}')\n",
    "    concept = json.loads(response.text)\n",
    "    domain = concept['domainId']\n",
    "    return domain"
   ],
   "metadata": {
    "collapsed": false,
    "pycharm": {
     "name": "#%%\n"
    }
   }
  },
  {
   "cell_type": "code",
   "execution_count": 4,
   "outputs": [],
   "source": [
    "def example_omop_table(field, instance, *value):\n",
    "    domain = omop_domain(field)\n",
    "    if domain == 'Observation':\n",
    "        row = examples[(examples['field_id'] == field) & (examples['value'] == value)]\n",
    "    else:\n",
    "        row = examples[examples['field_id'] == field]\n",
    "\n",
    "    table = pd.Series({'person_id': 'get(eid)',\n",
    "                       domain+'_concept_id': str(row.iloc[0]['target_concept_id']),\n",
    "                       domain+'_date': 'get date from field '+str(row.iloc[0]['date_field_id'])+'-'+instance,\n",
    "                       'value_as_concept_id': str(row.iloc[0]['target_value_concept_id']),\n",
    "                       'value_as_number': 'get value from field '+str(row.iloc[0]['field_id'])+'-'+instance,\n",
    "                       'unit_concept_id': str(row.iloc[0]['unit_concept_id'])\n",
    "                       })\n",
    "    return table"
   ],
   "metadata": {
    "collapsed": false,
    "pycharm": {
     "name": "#%%\n"
    }
   }
  },
  {
   "cell_type": "code",
   "execution_count": 5,
   "outputs": [
    {
     "name": "stdout",
     "output_type": "stream",
     "text": [
      "Observation\n"
     ]
    }
   ],
   "source": [
    "print(omop_domain(2986))"
   ],
   "metadata": {
    "collapsed": false,
    "pycharm": {
     "name": "#%%\n"
    }
   }
  },
  {
   "cell_type": "code",
   "execution_count": 6,
   "outputs": [
    {
     "name": "stdout",
     "output_type": "stream",
     "text": [
      "person_id                                      get(eid)\n",
      "Observation_concept_id                        4188893.0\n",
      "Observation_date           get date from field 53.0-0.1\n",
      "value_as_concept_id                          45884660.0\n",
      "value_as_number           get value from field 2986-0.1\n",
      "unit_concept_id                                     nan\n",
      "dtype: object\n"
     ]
    }
   ],
   "source": [
    "print(example_omop_table(2986, '0.1', 0))\n"
   ],
   "metadata": {
    "collapsed": false,
    "pycharm": {
     "name": "#%%\n"
    }
   }
  }
 ],
 "metadata": {
  "kernelspec": {
   "name": "pycharm-3fc10125",
   "language": "python",
   "display_name": "PyCharm (ukbiobank-omop-etl)"
  },
  "language_info": {
   "codemirror_mode": {
    "name": "ipython",
    "version": 2
   },
   "file_extension": ".py",
   "mimetype": "text/x-python",
   "name": "python",
   "nbconvert_exporter": "python",
   "pygments_lexer": "ipython2",
   "version": "2.7.6"
  }
 },
 "nbformat": 4,
 "nbformat_minor": 0
}