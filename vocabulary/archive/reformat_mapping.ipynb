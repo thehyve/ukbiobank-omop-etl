{
 "cells": [
  {
   "cell_type": "code",
   "execution_count": 1,
   "metadata": {},
   "outputs": [],
   "source": [
    "import csv\n",
    "import pandas as pd"
   ]
  },
  {
   "cell_type": "code",
   "execution_count": 2,
   "metadata": {},
   "outputs": [],
   "source": [
    "concept = pd.read_csv('concept.csv', dtype=str)\n",
    "concept_rel = pd.read_csv('concept_relationship.csv', dtype=str)"
   ]
  },
  {
   "cell_type": "code",
   "execution_count": 14,
   "metadata": {},
   "outputs": [],
   "source": [
    "df = concept_rel.merge(concept, left_on='concept_id_1', right_on='concept_id')"
   ]
  },
  {
   "cell_type": "code",
   "execution_count": 21,
   "metadata": {},
   "outputs": [
    {
     "data": {
      "text/html": [
       "<div>\n",
       "<style scoped>\n",
       "    .dataframe tbody tr th:only-of-type {\n",
       "        vertical-align: middle;\n",
       "    }\n",
       "\n",
       "    .dataframe tbody tr th {\n",
       "        vertical-align: top;\n",
       "    }\n",
       "\n",
       "    .dataframe thead th {\n",
       "        text-align: right;\n",
       "    }\n",
       "</style>\n",
       "<table border=\"1\" class=\"dataframe\">\n",
       "  <thead>\n",
       "    <tr style=\"text-align: right;\">\n",
       "      <th></th>\n",
       "      <th>concept_relationship_id</th>\n",
       "      <th>concept_code</th>\n",
       "      <th>concept_name</th>\n",
       "      <th>concept_id_2</th>\n",
       "      <th>target concept</th>\n",
       "    </tr>\n",
       "  </thead>\n",
       "  <tbody>\n",
       "    <tr>\n",
       "      <th>0</th>\n",
       "      <td>Maps to</td>\n",
       "      <td>34</td>\n",
       "      <td>Year of birth</td>\n",
       "      <td>21494070</td>\n",
       "      <td>(Birth year, Observation, LOINC)</td>\n",
       "    </tr>\n",
       "    <tr>\n",
       "      <th>1</th>\n",
       "      <td>Maps to unit</td>\n",
       "      <td>34</td>\n",
       "      <td>Year of birth</td>\n",
       "      <td>9448</td>\n",
       "      <td>(Year, Unit, UCUM)</td>\n",
       "    </tr>\n",
       "    <tr>\n",
       "      <th>2</th>\n",
       "      <td>Maps to</td>\n",
       "      <td>46</td>\n",
       "      <td>Hand grip strength (left)</td>\n",
       "      <td>44805437</td>\n",
       "      <td>(Grip strength of left hand, Observation, SNOMED)</td>\n",
       "    </tr>\n",
       "    <tr>\n",
       "      <th>3</th>\n",
       "      <td>Maps to unit</td>\n",
       "      <td>46</td>\n",
       "      <td>Hand grip strength (left)</td>\n",
       "      <td>9529</td>\n",
       "      <td>(Kilogram, Unit, UCUM)</td>\n",
       "    </tr>\n",
       "    <tr>\n",
       "      <th>4</th>\n",
       "      <td>Maps to</td>\n",
       "      <td>47</td>\n",
       "      <td>Hand grip strength (right)</td>\n",
       "      <td>44805438</td>\n",
       "      <td>(Grip strength of right hand, Observation, SNO...</td>\n",
       "    </tr>\n",
       "    <tr>\n",
       "      <th>...</th>\n",
       "      <td>...</td>\n",
       "      <td>...</td>\n",
       "      <td>...</td>\n",
       "      <td>...</td>\n",
       "      <td>...</td>\n",
       "    </tr>\n",
       "    <tr>\n",
       "      <th>281</th>\n",
       "      <td>Maps to</td>\n",
       "      <td>30897</td>\n",
       "      <td>Estimated sample dilution factor</td>\n",
       "      <td>NaN</td>\n",
       "      <td>NaN</td>\n",
       "    </tr>\n",
       "    <tr>\n",
       "      <th>282</th>\n",
       "      <td>Maps to</td>\n",
       "      <td>40007</td>\n",
       "      <td>Age at death</td>\n",
       "      <td>3038421</td>\n",
       "      <td>(Age at death, Observation, LOINC)</td>\n",
       "    </tr>\n",
       "    <tr>\n",
       "      <th>283</th>\n",
       "      <td>Maps to unit</td>\n",
       "      <td>40007</td>\n",
       "      <td>Age at death</td>\n",
       "      <td>9448</td>\n",
       "      <td>(Year, Unit, UCUM)</td>\n",
       "    </tr>\n",
       "    <tr>\n",
       "      <th>284</th>\n",
       "      <td>Maps to</td>\n",
       "      <td>40008</td>\n",
       "      <td>Age at cancer diagnosis</td>\n",
       "      <td>3007016</td>\n",
       "      <td>(Age at cancer diagnosis, Measurement, LOINC)</td>\n",
       "    </tr>\n",
       "    <tr>\n",
       "      <th>285</th>\n",
       "      <td>Maps to unit</td>\n",
       "      <td>40008</td>\n",
       "      <td>Age at cancer diagnosis</td>\n",
       "      <td>9448</td>\n",
       "      <td>(Year, Unit, UCUM)</td>\n",
       "    </tr>\n",
       "  </tbody>\n",
       "</table>\n",
       "<p>286 rows × 5 columns</p>\n",
       "</div>"
      ],
      "text/plain": [
       "    concept_relationship_id concept_code                      concept_name  \\\n",
       "0                   Maps to           34                     Year of birth   \n",
       "1              Maps to unit           34                     Year of birth   \n",
       "2                   Maps to           46         Hand grip strength (left)   \n",
       "3              Maps to unit           46         Hand grip strength (left)   \n",
       "4                   Maps to           47        Hand grip strength (right)   \n",
       "..                      ...          ...                               ...   \n",
       "281                 Maps to        30897  Estimated sample dilution factor   \n",
       "282                 Maps to        40007                      Age at death   \n",
       "283            Maps to unit        40007                      Age at death   \n",
       "284                 Maps to        40008           Age at cancer diagnosis   \n",
       "285            Maps to unit        40008           Age at cancer diagnosis   \n",
       "\n",
       "    concept_id_2                                     target concept  \n",
       "0       21494070                   (Birth year, Observation, LOINC)  \n",
       "1           9448                                 (Year, Unit, UCUM)  \n",
       "2       44805437  (Grip strength of left hand, Observation, SNOMED)  \n",
       "3           9529                             (Kilogram, Unit, UCUM)  \n",
       "4       44805438  (Grip strength of right hand, Observation, SNO...  \n",
       "..           ...                                                ...  \n",
       "281          NaN                                                NaN  \n",
       "282      3038421                 (Age at death, Observation, LOINC)  \n",
       "283         9448                                 (Year, Unit, UCUM)  \n",
       "284      3007016      (Age at cancer diagnosis, Measurement, LOINC)  \n",
       "285         9448                                 (Year, Unit, UCUM)  \n",
       "\n",
       "[286 rows x 5 columns]"
      ]
     },
     "execution_count": 21,
     "metadata": {},
     "output_type": "execute_result"
    }
   ],
   "source": [
    "df[['concept_relationship_id', 'concept_code', 'concept_name', 'concept_id_2', 'target concept']]"
   ]
  },
  {
   "cell_type": "code",
   "execution_count": 26,
   "metadata": {},
   "outputs": [],
   "source": [
    "df_new = df.pivot(index='concept_code', columns='concept_relationship_id', values='concept_id_2')"
   ]
  },
  {
   "cell_type": "code",
   "execution_count": 29,
   "metadata": {},
   "outputs": [],
   "source": [
    "df_new.to_csv('flattened.csv')"
   ]
  },
  {
   "cell_type": "code",
   "execution_count": null,
   "metadata": {},
   "outputs": [],
   "source": []
  }
 ],
 "metadata": {
  "kernelspec": {
   "display_name": "Python 3",
   "language": "python",
   "name": "python3"
  },
  "language_info": {
   "codemirror_mode": {
    "name": "ipython",
    "version": 3
   },
   "file_extension": ".py",
   "mimetype": "text/x-python",
   "name": "python",
   "nbconvert_exporter": "python",
   "pygments_lexer": "ipython3",
   "version": "3.7.6"
  }
 },
 "nbformat": 4,
 "nbformat_minor": 4
}
